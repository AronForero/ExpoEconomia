{
 "cells": [
  {
   "cell_type": "markdown",
   "metadata": {},
   "source": [
    "## Primer archivo de Inflacion\n"
   ]
  },
  {
   "cell_type": "code",
   "execution_count": 1,
   "metadata": {},
   "outputs": [],
   "source": [
    "import pandas as pd\n",
    "import bokeh.plotting as bp\n",
    "import datetime\n",
    "from bokeh.models import CustomJS, Slider\n",
    "from bokeh.io import output_notebook, show\n",
    "#output_notebook()"
   ]
  },
  {
   "cell_type": "code",
   "execution_count": 63,
   "metadata": {},
   "outputs": [
    {
     "data": {
      "text/html": [
       "<div>\n",
       "<style>\n",
       "    .dataframe thead tr:only-child th {\n",
       "        text-align: right;\n",
       "    }\n",
       "\n",
       "    .dataframe thead th {\n",
       "        text-align: left;\n",
       "    }\n",
       "\n",
       "    .dataframe tbody tr th {\n",
       "        vertical-align: top;\n",
       "    }\n",
       "</style>\n",
       "<table border=\"1\" class=\"dataframe\">\n",
       "  <thead>\n",
       "    <tr style=\"text-align: right;\">\n",
       "      <th></th>\n",
       "      <th>Año_Mes</th>\n",
       "      <th>Inflacion</th>\n",
       "      <th>Limitesuperior</th>\n",
       "      <th>Metadeinflacion</th>\n",
       "      <th>Limiteinferior</th>\n",
       "    </tr>\n",
       "  </thead>\n",
       "  <tbody>\n",
       "    <tr>\n",
       "      <th>0</th>\n",
       "      <td>2017-09</td>\n",
       "      <td>3,97</td>\n",
       "      <td>4,00</td>\n",
       "      <td>3,00</td>\n",
       "      <td>2,00</td>\n",
       "    </tr>\n",
       "    <tr>\n",
       "      <th>1</th>\n",
       "      <td>2017-08</td>\n",
       "      <td>3,87</td>\n",
       "      <td>4,00</td>\n",
       "      <td>3,00</td>\n",
       "      <td>2,00</td>\n",
       "    </tr>\n",
       "    <tr>\n",
       "      <th>2</th>\n",
       "      <td>2017-07</td>\n",
       "      <td>3,40</td>\n",
       "      <td>4,00</td>\n",
       "      <td>3,00</td>\n",
       "      <td>2,00</td>\n",
       "    </tr>\n",
       "    <tr>\n",
       "      <th>3</th>\n",
       "      <td>2017-06</td>\n",
       "      <td>3,99</td>\n",
       "      <td>4,00</td>\n",
       "      <td>3,00</td>\n",
       "      <td>2,00</td>\n",
       "    </tr>\n",
       "    <tr>\n",
       "      <th>4</th>\n",
       "      <td>2017-05</td>\n",
       "      <td>4,37</td>\n",
       "      <td>4,00</td>\n",
       "      <td>3,00</td>\n",
       "      <td>2,00</td>\n",
       "    </tr>\n",
       "  </tbody>\n",
       "</table>\n",
       "</div>"
      ],
      "text/plain": [
       "   Año_Mes Inflacion Limitesuperior Metadeinflacion Limiteinferior\n",
       "0  2017-09      3,97           4,00            3,00           2,00\n",
       "1  2017-08      3,87           4,00            3,00           2,00\n",
       "2  2017-07      3,40           4,00            3,00           2,00\n",
       "3  2017-06      3,99           4,00            3,00           2,00\n",
       "4  2017-05      4,37           4,00            3,00           2,00"
      ]
     },
     "execution_count": 63,
     "metadata": {},
     "output_type": "execute_result"
    }
   ],
   "source": [
    "book1 = pd.read_csv('../Book1.csv', sep=';')\n",
    "book1.head()"
   ]
  },
  {
   "cell_type": "code",
   "execution_count": 64,
   "metadata": {
    "collapsed": true,
    "scrolled": true
   },
   "outputs": [],
   "source": [
    "fecha = pd.to_datetime(book1.Año_Mes) #dejo todo como tipo fecha\n",
    "y = [float(i.replace(\",\", \".\")) for i in book1.Inflacion] #tiene , en vez de . cambio eso para convertir a float\n",
    "sup = [float(str(i).replace(\",\",\".\")) for i in book1.Limitesuperior]\n",
    "inf = [float(str(i).replace(\",\",\".\")) for i in book1.Limiteinferior]\n",
    "#rango = sup+inf"
   ]
  },
  {
   "cell_type": "code",
   "execution_count": 65,
   "metadata": {
    "collapsed": true
   },
   "outputs": [],
   "source": [
    "fecha_01 = [str(i)[:7] for i in fecha]"
   ]
  },
  {
   "cell_type": "markdown",
   "metadata": {},
   "source": [
    "    -Notas 05b ML fillbetween\n",
    "    -arreglar los datos para poder generar un patch como rango sup/inf"
   ]
  },
  {
   "cell_type": "code",
   "execution_count": 68,
   "metadata": {},
   "outputs": [],
   "source": [
    "fig = bp.figure(title=\"Inflacion a lo largo de los Años\", x_axis_label=\"Año\", y_axis_label=\"inflacion\", x_range=fecha_01[-1::-1], plot_width=1350, plot_height=780)\n",
    "figline = fig.line(fecha_01, y, line_width=2, legend=\"Inflacion\")\n",
    "figline2 = fig.line(fecha_01, sup, alpha = 0.5, line_width=4, color = \"green\", legend=\"Limite Superior\")\n",
    "figline3 = fig.line(fecha_01, inf, alpha = 0.5, line_width=4, color = \"red\", legend=\"Limite Inferior\")\n",
    "#figpatch = fig.patch(fecha, rango, alpha = 0.5, line_width=1, color = \"green\")\n",
    "fig.legend.location=\"top_right\"\n",
    "fig.legend.click_policy=\"hide\""
   ]
  },
  {
   "cell_type": "code",
   "execution_count": 69,
   "metadata": {
    "collapsed": true
   },
   "outputs": [],
   "source": [
    "bp.output_file('graf.html')\n",
    "show(fig)"
   ]
  },
  {
   "cell_type": "markdown",
   "metadata": {
    "collapsed": true
   },
   "source": [
    "### Segundo Archivo..."
   ]
  },
  {
   "cell_type": "code",
   "execution_count": 16,
   "metadata": {},
   "outputs": [
    {
     "data": {
      "text/html": [
       "<div>\n",
       "<style>\n",
       "    .dataframe thead tr:only-child th {\n",
       "        text-align: right;\n",
       "    }\n",
       "\n",
       "    .dataframe thead th {\n",
       "        text-align: left;\n",
       "    }\n",
       "\n",
       "    .dataframe tbody tr th {\n",
       "        vertical-align: top;\n",
       "    }\n",
       "</style>\n",
       "<table border=\"1\" class=\"dataframe\">\n",
       "  <thead>\n",
       "    <tr style=\"text-align: right;\">\n",
       "      <th></th>\n",
       "      <th>AnioMes</th>\n",
       "      <th>Sin_alimentos_primarios_servicios_publicos_y_combustibles_Indice</th>\n",
       "      <th>Sin_alimentos_primarios_servicios_publicos_y_combustibles_Variacion_Anual</th>\n",
       "      <th>Sin_alimentos_ni_regulados_Indice</th>\n",
       "      <th>Sin_alimentos_ni_regulados_Variacion_Anual</th>\n",
       "      <th>Sin_alimentos_Indice</th>\n",
       "      <th>Sin_alimentos_Variacion_Anual</th>\n",
       "      <th>Ipc_nucleo_20_Indice</th>\n",
       "      <th>Ipc_nucleo_20_Variacion_Anual</th>\n",
       "    </tr>\n",
       "  </thead>\n",
       "  <tbody>\n",
       "    <tr>\n",
       "      <th>0</th>\n",
       "      <td>1982-03</td>\n",
       "      <td>NaN</td>\n",
       "      <td>NaN</td>\n",
       "      <td>2,53322</td>\n",
       "      <td>NaN</td>\n",
       "      <td>NaN</td>\n",
       "      <td>NaN</td>\n",
       "      <td>NaN</td>\n",
       "      <td>NaN</td>\n",
       "    </tr>\n",
       "    <tr>\n",
       "      <th>1</th>\n",
       "      <td>1982-04</td>\n",
       "      <td>NaN</td>\n",
       "      <td>NaN</td>\n",
       "      <td>2,58214</td>\n",
       "      <td>NaN</td>\n",
       "      <td>NaN</td>\n",
       "      <td>NaN</td>\n",
       "      <td>NaN</td>\n",
       "      <td>NaN</td>\n",
       "    </tr>\n",
       "    <tr>\n",
       "      <th>2</th>\n",
       "      <td>1982-05</td>\n",
       "      <td>NaN</td>\n",
       "      <td>NaN</td>\n",
       "      <td>2,63447</td>\n",
       "      <td>NaN</td>\n",
       "      <td>NaN</td>\n",
       "      <td>NaN</td>\n",
       "      <td>NaN</td>\n",
       "      <td>NaN</td>\n",
       "    </tr>\n",
       "    <tr>\n",
       "      <th>3</th>\n",
       "      <td>1982-06</td>\n",
       "      <td>NaN</td>\n",
       "      <td>NaN</td>\n",
       "      <td>2,66243</td>\n",
       "      <td>NaN</td>\n",
       "      <td>NaN</td>\n",
       "      <td>NaN</td>\n",
       "      <td>NaN</td>\n",
       "      <td>NaN</td>\n",
       "    </tr>\n",
       "    <tr>\n",
       "      <th>4</th>\n",
       "      <td>1982-07</td>\n",
       "      <td>NaN</td>\n",
       "      <td>NaN</td>\n",
       "      <td>2,71060</td>\n",
       "      <td>NaN</td>\n",
       "      <td>NaN</td>\n",
       "      <td>NaN</td>\n",
       "      <td>NaN</td>\n",
       "      <td>NaN</td>\n",
       "    </tr>\n",
       "  </tbody>\n",
       "</table>\n",
       "</div>"
      ],
      "text/plain": [
       "   AnioMes Sin_alimentos_primarios_servicios_publicos_y_combustibles_Indice  \\\n",
       "0  1982-03                                                NaN                 \n",
       "1  1982-04                                                NaN                 \n",
       "2  1982-05                                                NaN                 \n",
       "3  1982-06                                                NaN                 \n",
       "4  1982-07                                                NaN                 \n",
       "\n",
       "  Sin_alimentos_primarios_servicios_publicos_y_combustibles_Variacion_Anual  \\\n",
       "0                                                NaN                          \n",
       "1                                                NaN                          \n",
       "2                                                NaN                          \n",
       "3                                                NaN                          \n",
       "4                                                NaN                          \n",
       "\n",
       "  Sin_alimentos_ni_regulados_Indice  \\\n",
       "0                           2,53322   \n",
       "1                           2,58214   \n",
       "2                           2,63447   \n",
       "3                           2,66243   \n",
       "4                           2,71060   \n",
       "\n",
       "  Sin_alimentos_ni_regulados_Variacion_Anual Sin_alimentos_Indice  \\\n",
       "0                                        NaN                  NaN   \n",
       "1                                        NaN                  NaN   \n",
       "2                                        NaN                  NaN   \n",
       "3                                        NaN                  NaN   \n",
       "4                                        NaN                  NaN   \n",
       "\n",
       "  Sin_alimentos_Variacion_Anual Ipc_nucleo_20_Indice  \\\n",
       "0                           NaN                  NaN   \n",
       "1                           NaN                  NaN   \n",
       "2                           NaN                  NaN   \n",
       "3                           NaN                  NaN   \n",
       "4                           NaN                  NaN   \n",
       "\n",
       "  Ipc_nucleo_20_Variacion_Anual  \n",
       "0                           NaN  \n",
       "1                           NaN  \n",
       "2                           NaN  \n",
       "3                           NaN  \n",
       "4                           NaN  "
      ]
     },
     "execution_count": 16,
     "metadata": {},
     "output_type": "execute_result"
    }
   ],
   "source": [
    "book2 = pd.read_csv('../Book2.csv', sep=';')\n",
    "book2.head()"
   ]
  },
  {
   "cell_type": "code",
   "execution_count": 17,
   "metadata": {
    "collapsed": true
   },
   "outputs": [],
   "source": [
    "fecha2 = pd.to_datetime(book2.AnioMes, yearfirst = True) #dejo todo como tipo fecha\n",
    "fecha_02 = [str(i)[:7] for i in fecha2]"
   ]
  },
  {
   "cell_type": "code",
   "execution_count": 31,
   "metadata": {
    "collapsed": true
   },
   "outputs": [],
   "source": [
    "y = [float(str(i).replace(\",\", \".\")) for i in book2.Sin_alimentos_primarios_servicios_publicos_y_combustibles_Indice] #tiene , en vez de . cambio eso para convertir a float\n",
    "\n",
    "#y2 = [float((str(i).replace(\"%\", \"\")).replace(\",\", \".\")) for i in book2.Sin_alimentos_primarios_servicios_publicos_y_combustibles_Variacion_Anual]\n",
    "y3 = [float(i.replace(\",\", \".\")) for i in book2.Sin_alimentos_ni_regulados_Indice]\n",
    "#y4 = [float((str(i).replace(\"%\", \"\")).replace(\",\", \".\")) for i in book2.Sin_alimentos_ni_regulados_Variacion_Anual]\n",
    "y5 = [float(str(i).replace(\",\", \".\")) for i in book2.Sin_alimentos_Indice]\n",
    "#y6 = [float((str(i).replace(\"%\", \"\")).replace(\",\", \".\")) for i in book2.Sin_alimentos_Variacion_Anual]\n",
    "y7 = [float(str(i).replace(\",\", \".\")) for i in book2.Ipc_nucleo_20_Indice]\n",
    "#y8 = [float((str(i).replace(\"%\", \"\")).replace(\",\", \".\")) for i in book2.Ipc_nucleo_20_Variacion_Anual]"
   ]
  },
  {
   "cell_type": "code",
   "execution_count": 57,
   "metadata": {},
   "outputs": [],
   "source": [
    "fig2 = bp.figure(title=\"Inflacion a lo largo de los Años\", x_axis_label=\"Año\", y_axis_label=\"inflacion\", x_range=fecha_02, plot_width=1350, plot_height=780)\n",
    "figlin = fig2.line(fecha_02, y, line_width=2, legend=\"Sin Alimentos/ServiciosP/Combust\")\n",
    "figlin3 = fig2.line(fecha_02, y3, line_width=2, color=\"firebrick\", legend = \"Sin Alimentos/Regulados\")\n",
    "figlin5 = fig2.line(fecha_02, y5, line_width=2, color=\"black\", legend=\"Sin Alimentos\")\n",
    "figlin7 = fig2.line(fecha_02, y7, line_width=2, color=\"yellow\", legend=\"IPC Nucleo 20\")\n",
    "fig2.legend.location=\"top_left\"\n",
    "fig2.legend.click_policy=\"hide\""
   ]
  },
  {
   "cell_type": "code",
   "execution_count": 58,
   "metadata": {
    "collapsed": true
   },
   "outputs": [],
   "source": [
    "#figlin2 = fig2.line(fecha_02, y2, line_width=2, color=\"gold\")\n",
    "#figlin4 = fig2.line(fecha_02, y4, line_width=2, color=\"blue\")\n",
    "#figlin6 = fig2.line(fecha_02, y6, line_width=2, color=\"green\")\n",
    "#figlin8 = fig2.line(fecha_02, y8, line_width=2, color=\"navy\")"
   ]
  },
  {
   "cell_type": "code",
   "execution_count": 59,
   "metadata": {
    "scrolled": false
   },
   "outputs": [],
   "source": [
    "bp.output_file('graf2.html')\n",
    "show(fig2)"
   ]
  },
  {
   "cell_type": "code",
   "execution_count": null,
   "metadata": {
    "collapsed": true
   },
   "outputs": [],
   "source": []
  }
 ],
 "metadata": {
  "kernelspec": {
   "display_name": "Python 3",
   "language": "python",
   "name": "python3"
  },
  "language_info": {
   "codemirror_mode": {
    "name": "ipython",
    "version": 3
   },
   "file_extension": ".py",
   "mimetype": "text/x-python",
   "name": "python",
   "nbconvert_exporter": "python",
   "pygments_lexer": "ipython3",
   "version": "3.6.2"
  }
 },
 "nbformat": 4,
 "nbformat_minor": 2
}
